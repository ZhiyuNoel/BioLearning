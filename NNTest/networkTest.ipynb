{
 "cells": [
  {
   "cell_type": "code",
   "execution_count": 1,
   "id": "initial_id",
   "metadata": {
    "ExecuteTime": {
     "end_time": "2024-01-29T19:32:52.421320Z",
     "start_time": "2024-01-29T19:32:51.313500Z"
    }
   },
   "outputs": [],
   "source": [
    "import cv2\n",
    "import os\n",
    "import os.path\n",
    "import sys\n",
    "import torch\n",
    "import matplotlib.pyplot as plt\n",
    "import numpy as np\n",
    "from network import Model\n",
    "import torch.nn as nn\n",
    "import torch.optim as optim\n",
    "from tqdm import tqdm\n",
    "from torch.utils.data import Dataset, DataLoader\n",
    "from network import Model"
   ]
  },
  {
   "cell_type": "code",
   "execution_count": 2,
   "id": "bdb3a9fc-e2a0-44fb-89c3-19331202245a",
   "metadata": {
    "ExecuteTime": {
     "end_time": "2024-01-29T19:32:53.403827Z",
     "start_time": "2024-01-29T19:32:53.383411Z"
    }
   },
   "outputs": [],
   "source": [
    "width = 25\n",
    "height = 25\n",
    "channel = 1"
   ]
  },
  {
   "cell_type": "code",
   "execution_count": 3,
   "id": "cd230e0c-8f9e-403b-a624-e0435de80dd6",
   "metadata": {
    "ExecuteTime": {
     "end_time": "2024-01-29T19:32:53.829022Z",
     "start_time": "2024-01-29T19:32:53.816985Z"
    }
   },
   "outputs": [],
   "source": [
    "net = Model()"
   ]
  },
  {
   "cell_type": "code",
   "execution_count": 4,
   "id": "235f2332-cdab-4de3-9e59-c647e152c68c",
   "metadata": {
    "ExecuteTime": {
     "end_time": "2024-01-29T19:32:54.283897Z",
     "start_time": "2024-01-29T19:32:54.279852Z"
    }
   },
   "outputs": [],
   "source": [
    "def show_image(tensor_list):\n",
    "    \n",
    "    # 将选定的帧转换为numpy数组\n",
    "    frame_np = tensor_list.squeeze().numpy()  # 直接使用squeeze()和numpy()，省略permute()\n",
    "    \n",
    "    # 将数据类型从float转换回uint8（如果之前进行了归一化）\n",
    "    frame_np = (frame_np * 255).astype(np.uint8)\n",
    "    \n",
    "    # 使用matplotlib展示这一帧\n",
    "    import matplotlib.pyplot as plt\n",
    "    \n",
    "    plt.imshow(frame_np, cmap='gray')  # 对于灰度图，确保使用正确的颜色映射\n",
    "    plt.title(f'Frame {0}')\n",
    "    plt.axis('off')  # 不显示坐标轴\n",
    "    plt.show()\n"
   ]
  },
  {
   "cell_type": "code",
   "execution_count": 5,
   "id": "d754acf0-a842-4fbe-af5f-e2781a30171f",
   "metadata": {
    "ExecuteTime": {
     "end_time": "2024-01-29T19:32:54.735635Z",
     "start_time": "2024-01-29T19:32:54.730487Z"
    }
   },
   "outputs": [
    {
     "name": "stdout",
     "output_type": "stream",
     "text": [
      "['STMD_0.avi', 'STMD_1.avi', 'STMD_2.avi', 'STMD_3.avi', 'STMD_4.avi', 'STMD_5.avi', 'STMD_6.avi', 'STMD_7.avi', 'STMD_8.avi', 'STMD_9.avi']\n",
      "['STMD_0.txt', 'STMD_1.txt', 'STMD_2.txt', 'STMD_3.txt', 'STMD_4.txt', 'STMD_5.txt', 'STMD_6.txt', 'STMD_7.txt', 'STMD_8.txt', 'STMD_9.txt']\n",
      "['STMD_0.avi', 'STMD_4.avi', 'STMD_8.avi']\n",
      "['STMD_0.txt', 'STMD_4.txt', 'STMD_8.txt']\n",
      "['STMD_1.avi', 'STMD_2.avi', 'STMD_3.avi', 'STMD_5.avi', 'STMD_6.avi', 'STMD_7.avi', 'STMD_9.avi']\n",
      "['STMD_1.txt', 'STMD_2.txt', 'STMD_3.txt', 'STMD_5.txt', 'STMD_6.txt', 'STMD_7.txt', 'STMD_9.txt']\n"
     ]
    }
   ],
   "source": [
    "video_path = '../InputVideo/Train_Video'\n",
    "label_path = '../InputVideo/Train_Label'\n",
    "\n",
    "video_files = [f for f in sorted(os.listdir(video_path)) if f.endswith('.avi')]\n",
    "label_files = [f for f in sorted(os.listdir(label_path)) if f.endswith('.txt')]\n",
    "print(video_files)\n",
    "print(label_files)\n",
    "\n",
    "test_video_file = []\n",
    "test_label_file = []\n",
    "train_video_file = []\n",
    "train_label_file = []\n",
    "\n",
    "for index in range(len(video_files)):\n",
    "    if index % 4 == 0:\n",
    "        test_video_file.append(video_files[index])\n",
    "        test_label_file.append(label_files[index])\n",
    "    else:\n",
    "        train_video_file.append(video_files[index])\n",
    "        train_label_file.append(label_files[index])\n",
    "\n",
    "print(test_video_file)\n",
    "print(test_label_file)\n",
    "print(train_video_file)\n",
    "print(train_label_file)"
   ]
  },
  {
   "cell_type": "code",
   "execution_count": 6,
   "id": "180462ac-53b3-4176-8b66-56f03c919ec7",
   "metadata": {
    "ExecuteTime": {
     "end_time": "2024-01-29T19:32:58.871787Z",
     "start_time": "2024-01-29T19:32:55.148841Z"
    }
   },
   "outputs": [
    {
     "data": {
      "image/png": "[encoded data removed]",
      "text/plain": [
       "<Figure size 640x480 with 1 Axes>"
      ]
     },
     "metadata": {},
     "output_type": "display_data"
    }
   ],
   "source": [
    "## Load All Videos\n",
    "InputSize = 0\n",
    "InputVideoRatio = None\n",
    "videos = {}\n",
    "for filename in video_files:\n",
    "    videoLoader = cv2.VideoCapture(video_path + \"/\" + filename)\n",
    "    n = 0\n",
    "    frame_tensors = []\n",
    "    while True:\n",
    "        ret, frame = videoLoader.read()\n",
    "        if ret is False:\n",
    "            break\n",
    "        # 1. 将BGR图像转换为灰度图\n",
    "        frame_gray = cv2.cvtColor(frame, cv2.COLOR_BGR2GRAY)\n",
    "        # 2. 将数据类型转换为float32，并缩放到0-1范围\n",
    "        frame_gray = frame_gray.astype(np.float32) / 255.0\n",
    "        # 3. 重新调整图像尺寸（如果需要保持原尺寸，这一步可以省略）\n",
    "        frame_resized = cv2.resize(frame_gray, (width, height))\n",
    "        # 4. 将numpy数组转换为torch Tensor，并确保其形状为[1, height, width]，这里不需要使用permute\n",
    "        frame_tensor = torch.tensor(frame_resized).unsqueeze(0).unsqueeze(0)  # 在0位置增加两个维度，变为[1, 1, height, width]\n",
    "        frame_tensors.append(frame_tensor)\n",
    "    videoLoader.release()\n",
    "    videos[filename] = frame_tensors\n",
    "\n",
    "\n",
    "frames_tensor = torch.cat(videos[video_files[3]], dim=0)  # 结果维度为 [帧数, 通道数, 高度, 宽度]\n",
    "selected_frame = frames_tensor[0]\n",
    "\n",
    "# 将选定的帧转换为numpy数组\n",
    "frame_np = selected_frame.squeeze().numpy()  # 直接使用squeeze()和numpy()，省略permute()\n",
    "\n",
    "# 将数据类型从float转换回uint8（如果之前进行了归一化）\n",
    "frame_np = (frame_np * 255).astype(np.uint8)\n",
    "\n",
    "plt.imshow(frame_np, cmap='gray')  # 对于灰度图，确保使用正确的颜色映射\n",
    "plt.title(f'Frame {0}')\n",
    "plt.axis('off')  # 不显示坐标轴\n",
    "plt.show()"
   ]
  },
  {
   "cell_type": "code",
   "execution_count": 7,
   "id": "ac3c9c32-fd67-44db-b6a1-1b521089079b",
   "metadata": {
    "ExecuteTime": {
     "end_time": "2024-01-29T19:32:58.888404Z",
     "start_time": "2024-01-29T19:32:58.869912Z"
    }
   },
   "outputs": [
    {
     "name": "stdout",
     "output_type": "stream",
     "text": [
      "tensor([0.0000, 0.0000, 0.5000,  ..., 0.0000, 0.0000, 0.0000])\n"
     ]
    }
   ],
   "source": [
    "## Load Cooresponding Labels (Spike Time)\n",
    "spike_times = {}\n",
    "for labelName in label_files:\n",
    "    spikes = [0] * len(frames_tensor)\n",
    "    with open(label_path + \"/\" + labelName, 'r') as file:\n",
    "        for line in file:\n",
    "            try:\n",
    "                spike_index = int(line.strip())\n",
    "                spikes[spike_index] = 1\n",
    "            except ValueError:\n",
    "                print(f\"Skipping invalid number: {line.strip()}\")\n",
    "    spike_tensor = torch.tensor([element / 2 for element in spikes])\n",
    "    spike_times[labelName] = spike_tensor\n",
    "\n",
    "print(spike_times[label_files[0]])"
   ]
  },
  {
   "cell_type": "code",
   "execution_count": 8,
   "id": "ab7b6aa4-49fb-4f46-84ae-06458a277f2d",
   "metadata": {
    "ExecuteTime": {
     "end_time": "2024-01-29T19:32:58.898200Z",
     "start_time": "2024-01-29T19:32:58.884906Z"
    }
   },
   "outputs": [
    {
     "data": {
      "text/plain": [
       "{'STMD_0.txt': tensor([0.0000, 0.0000, 0.5000,  ..., 0.0000, 0.0000, 0.0000]),\n",
       " 'STMD_1.txt': tensor([0., 0., 0.,  ..., 0., 0., 0.]),\n",
       " 'STMD_2.txt': tensor([0., 0., 0.,  ..., 0., 0., 0.]),\n",
       " 'STMD_3.txt': tensor([0., 0., 0.,  ..., 0., 0., 0.]),\n",
       " 'STMD_4.txt': tensor([0., 0., 0.,  ..., 0., 0., 0.]),\n",
       " 'STMD_5.txt': tensor([0., 0., 0.,  ..., 0., 0., 0.]),\n",
       " 'STMD_6.txt': tensor([0., 0., 0.,  ..., 0., 0., 0.]),\n",
       " 'STMD_7.txt': tensor([0., 0., 0.,  ..., 0., 0., 0.]),\n",
       " 'STMD_8.txt': tensor([0.5000, 0.0000, 0.0000,  ..., 0.0000, 0.0000, 0.0000]),\n",
       " 'STMD_9.txt': tensor([0., 0., 0.,  ..., 0., 0., 0.])}"
      ]
     },
     "execution_count": 8,
     "metadata": {},
     "output_type": "execute_result"
    }
   ],
   "source": [
    "## Dictionary: {'Video File Name', tensor matrix for frames}\n",
    "videos\n",
    "## Dictionary: {'Label File Name', tensor one-hot list for a video}\n",
    "spike_times"
   ]
  },
  {
   "cell_type": "markdown",
   "id": "59a74b4d-7df0-4fda-b1cd-27426a83ce17",
   "metadata": {},
   "source": [
    "### ☝️ 数据处理与存储\n",
    "### 👇 Autoencoder 构建与测试"
   ]
  },
  {
   "cell_type": "code",
   "execution_count": 9,
   "id": "b2da11f1-81de-4d1e-8a04-d44212928b8c",
   "metadata": {
    "ExecuteTime": {
     "end_time": "2024-01-29T19:32:58.920362Z",
     "start_time": "2024-01-29T19:32:58.891313Z"
    }
   },
   "outputs": [],
   "source": [
    "import torch\n",
    "\n",
    "class VideoFrameDataset(Dataset):\n",
    "    def __init__(self, data_dict, label_dict):\n",
    "        \"\"\"\n",
    "        初始化数据集\n",
    "        :param data_dict: 包含视频帧数据的字典，键为文件名，值为帧的张量列表\n",
    "        :param label_dict: 包含帧标签的字典，键为文件名，值为对应帧的标签张量列表\n",
    "        \"\"\"\n",
    "        self.data = []\n",
    "        self.labels = []\n",
    "        \n",
    "        # 将视频帧和标签转换为一个长列表\n",
    "        for video_name in data_dict.keys():\n",
    "            # 使用与视频文件名相对应的标签文件名\n",
    "            label_name = video_name.replace('.avi', '.txt')\n",
    "            \n",
    "            # 检查视频文件和标签文件是否匹配\n",
    "            if label_name in label_dict:\n",
    "                for frame_data, frame_label in zip(data_dict[video_name], label_dict[label_name]):\n",
    "                    self.data.append(frame_data)\n",
    "                    self.labels.append(frame_label)\n",
    "            else:\n",
    "                print(f\"Warning: Missing labels for {video_name}\")\n",
    "\n",
    "    def __len__(self):\n",
    "        return len(self.data)\n",
    "\n",
    "    def __getitem__(self, index):\n",
    "        # 获取索引对应的数据和标签\n",
    "        data_item = self.data[index]\n",
    "        label_item = self.labels[index]\n",
    "        return data_item, label_item\n",
    "\n",
    "# 假设data_dict和label_dict已经定义并包含了数据和标签\n",
    "# data_dict = {'STMD_0.avi': [frame1, frame2, ...], ...}\n",
    "# label_dict = {'STMD_0.txt': [label1, label2, ...], ...}"
   ]
  },
  {
   "cell_type": "code",
   "execution_count": 10,
   "id": "2acc787a-4317-4076-ac1a-09dd4bc69efc",
   "metadata": {
    "ExecuteTime": {
     "end_time": "2024-01-29T19:33:00.014497Z",
     "start_time": "2024-01-29T19:32:59.890548Z"
    }
   },
   "outputs": [],
   "source": [
    "train_video_set = {}\n",
    "train_label_set = {}\n",
    "test_label_set = {}\n",
    "test_video_set = {}\n",
    "batch_size = 8\n",
    "for name in videos:\n",
    "    if name in train_video_file:\n",
    "        train_video_set[name] = videos[name]\n",
    "    else:\n",
    "        test_video_set[name] = videos[name]\n",
    "    \n",
    "\n",
    "for name in spike_times:\n",
    "    if name in train_label_file:\n",
    "        train_label_set[name] = spike_times[name]\n",
    "    else:\n",
    "        test_label_set[name] = spike_times[name]\n",
    "\n",
    "train_Dataset = VideoFrameDataset(train_video_set, train_label_set)\n",
    "test_Dataset = VideoFrameDataset(test_video_set, test_label_set)\n",
    "\n",
    "train_loader = DataLoader(dataset=train_Dataset, batch_size=batch_size, shuffle=True)\n",
    "test_loader =  DataLoader(dataset=test_Dataset, batch_size=batch_size)"
   ]
  },
  {
   "cell_type": "code",
   "execution_count": 11,
   "id": "94e8a58c-189b-4ba1-8335-8c642314998d",
   "metadata": {
    "ExecuteTime": {
     "end_time": "2024-01-29T19:33:00.902556Z",
     "start_time": "2024-01-29T19:33:00.858611Z"
    }
   },
   "outputs": [
    {
     "name": "stdout",
     "output_type": "stream",
     "text": [
      "Batch 1\n",
      "Images shape: torch.Size([8, 1, 1, 25, 25])\n",
      "Labels shape: torch.Size([8])\n",
      "First image in batch: tensor([[[[5.8824e-03, 0.0000e+00, 0.0000e+00, 0.0000e+00, 0.0000e+00,\n",
      "           0.0000e+00, 0.0000e+00, 0.0000e+00, 0.0000e+00, 0.0000e+00,\n",
      "           0.0000e+00, 0.0000e+00, 0.0000e+00, 0.0000e+00, 0.0000e+00,\n",
      "           0.0000e+00, 0.0000e+00, 0.0000e+00, 0.0000e+00, 0.0000e+00,\n",
      "           0.0000e+00, 0.0000e+00, 0.0000e+00, 0.0000e+00, 0.0000e+00],\n",
      "          [0.0000e+00, 2.9412e-03, 2.4902e-01, 0.0000e+00, 0.0000e+00,\n",
      "           0.0000e+00, 0.0000e+00, 0.0000e+00, 0.0000e+00, 0.0000e+00,\n",
      "           0.0000e+00, 0.0000e+00, 0.0000e+00, 0.0000e+00, 0.0000e+00,\n",
      "           0.0000e+00, 0.0000e+00, 0.0000e+00, 0.0000e+00, 0.0000e+00,\n",
      "           0.0000e+00, 0.0000e+00, 0.0000e+00, 0.0000e+00, 0.0000e+00],\n",
      "          [1.1765e-02, 7.3529e-01, 9.9020e-01, 2.5196e-01, 2.9412e-03,\n",
      "           0.0000e+00, 0.0000e+00, 0.0000e+00, 0.0000e+00, 0.0000e+00,\n",
      "           0.0000e+00, 0.0000e+00, 0.0000e+00, 0.0000e+00, 0.0000e+00,\n",
      "           0.0000e+00, 0.0000e+00, 0.0000e+00, 0.0000e+00, 0.0000e+00,\n",
      "           0.0000e+00, 0.0000e+00, 0.0000e+00, 0.0000e+00, 0.0000e+00],\n",
      "          [2.9412e-03, 2.5196e-01, 7.3922e-01, 3.9216e-03, 0.0000e+00,\n",
      "           0.0000e+00, 0.0000e+00, 0.0000e+00, 0.0000e+00, 0.0000e+00,\n",
      "           0.0000e+00, 0.0000e+00, 0.0000e+00, 0.0000e+00, 0.0000e+00,\n",
      "           0.0000e+00, 0.0000e+00, 0.0000e+00, 0.0000e+00, 0.0000e+00,\n",
      "           0.0000e+00, 0.0000e+00, 0.0000e+00, 0.0000e+00, 0.0000e+00],\n",
      "          [0.0000e+00, 9.8039e-04, 4.9020e-03, 1.9608e-03, 0.0000e+00,\n",
      "           0.0000e+00, 0.0000e+00, 0.0000e+00, 0.0000e+00, 0.0000e+00,\n",
      "           0.0000e+00, 0.0000e+00, 0.0000e+00, 0.0000e+00, 0.0000e+00,\n",
      "           0.0000e+00, 0.0000e+00, 0.0000e+00, 0.0000e+00, 0.0000e+00,\n",
      "           0.0000e+00, 0.0000e+00, 0.0000e+00, 0.0000e+00, 0.0000e+00],\n",
      "          [0.0000e+00, 0.0000e+00, 0.0000e+00, 0.0000e+00, 0.0000e+00,\n",
      "           0.0000e+00, 0.0000e+00, 0.0000e+00, 0.0000e+00, 0.0000e+00,\n",
      "           0.0000e+00, 0.0000e+00, 0.0000e+00, 0.0000e+00, 0.0000e+00,\n",
      "           0.0000e+00, 0.0000e+00, 0.0000e+00, 0.0000e+00, 0.0000e+00,\n",
      "           0.0000e+00, 0.0000e+00, 0.0000e+00, 0.0000e+00, 0.0000e+00],\n",
      "          [0.0000e+00, 0.0000e+00, 0.0000e+00, 0.0000e+00, 0.0000e+00,\n",
      "           0.0000e+00, 0.0000e+00, 0.0000e+00, 0.0000e+00, 0.0000e+00,\n",
      "           0.0000e+00, 0.0000e+00, 0.0000e+00, 0.0000e+00, 0.0000e+00,\n",
      "           0.0000e+00, 0.0000e+00, 0.0000e+00, 0.0000e+00, 0.0000e+00,\n",
      "           0.0000e+00, 0.0000e+00, 0.0000e+00, 0.0000e+00, 0.0000e+00],\n",
      "          [0.0000e+00, 0.0000e+00, 0.0000e+00, 0.0000e+00, 0.0000e+00,\n",
      "           0.0000e+00, 0.0000e+00, 0.0000e+00, 0.0000e+00, 0.0000e+00,\n",
      "           0.0000e+00, 0.0000e+00, 0.0000e+00, 0.0000e+00, 0.0000e+00,\n",
      "           0.0000e+00, 0.0000e+00, 0.0000e+00, 0.0000e+00, 0.0000e+00,\n",
      "           0.0000e+00, 0.0000e+00, 0.0000e+00, 0.0000e+00, 0.0000e+00],\n",
      "          [0.0000e+00, 0.0000e+00, 0.0000e+00, 0.0000e+00, 0.0000e+00,\n",
      "           0.0000e+00, 0.0000e+00, 0.0000e+00, 0.0000e+00, 0.0000e+00,\n",
      "           0.0000e+00, 0.0000e+00, 0.0000e+00, 0.0000e+00, 0.0000e+00,\n",
      "           0.0000e+00, 0.0000e+00, 0.0000e+00, 0.0000e+00, 0.0000e+00,\n",
      "           0.0000e+00, 0.0000e+00, 0.0000e+00, 0.0000e+00, 0.0000e+00],\n",
      "          [0.0000e+00, 0.0000e+00, 0.0000e+00, 0.0000e+00, 0.0000e+00,\n",
      "           0.0000e+00, 0.0000e+00, 0.0000e+00, 0.0000e+00, 0.0000e+00,\n",
      "           0.0000e+00, 0.0000e+00, 0.0000e+00, 0.0000e+00, 0.0000e+00,\n",
      "           0.0000e+00, 0.0000e+00, 0.0000e+00, 0.0000e+00, 0.0000e+00,\n",
      "           0.0000e+00, 0.0000e+00, 0.0000e+00, 0.0000e+00, 0.0000e+00],\n",
      "          [0.0000e+00, 0.0000e+00, 0.0000e+00, 0.0000e+00, 0.0000e+00,\n",
      "           0.0000e+00, 0.0000e+00, 0.0000e+00, 0.0000e+00, 0.0000e+00,\n",
      "           0.0000e+00, 0.0000e+00, 0.0000e+00, 0.0000e+00, 0.0000e+00,\n",
      "           0.0000e+00, 0.0000e+00, 0.0000e+00, 0.0000e+00, 0.0000e+00,\n",
      "           0.0000e+00, 0.0000e+00, 0.0000e+00, 0.0000e+00, 0.0000e+00],\n",
      "          [0.0000e+00, 0.0000e+00, 0.0000e+00, 0.0000e+00, 0.0000e+00,\n",
      "           0.0000e+00, 0.0000e+00, 0.0000e+00, 0.0000e+00, 0.0000e+00,\n",
      "           0.0000e+00, 0.0000e+00, 0.0000e+00, 0.0000e+00, 0.0000e+00,\n",
      "           0.0000e+00, 0.0000e+00, 0.0000e+00, 0.0000e+00, 0.0000e+00,\n",
      "           0.0000e+00, 0.0000e+00, 0.0000e+00, 0.0000e+00, 0.0000e+00],\n",
      "          [0.0000e+00, 0.0000e+00, 0.0000e+00, 0.0000e+00, 0.0000e+00,\n",
      "           0.0000e+00, 0.0000e+00, 0.0000e+00, 0.0000e+00, 0.0000e+00,\n",
      "           0.0000e+00, 0.0000e+00, 0.0000e+00, 0.0000e+00, 0.0000e+00,\n",
      "           0.0000e+00, 0.0000e+00, 0.0000e+00, 0.0000e+00, 0.0000e+00,\n",
      "           0.0000e+00, 0.0000e+00, 0.0000e+00, 0.0000e+00, 0.0000e+00],\n",
      "          [0.0000e+00, 0.0000e+00, 0.0000e+00, 0.0000e+00, 0.0000e+00,\n",
      "           0.0000e+00, 0.0000e+00, 0.0000e+00, 0.0000e+00, 0.0000e+00,\n",
      "           0.0000e+00, 0.0000e+00, 0.0000e+00, 0.0000e+00, 0.0000e+00,\n",
      "           0.0000e+00, 0.0000e+00, 0.0000e+00, 0.0000e+00, 0.0000e+00,\n",
      "           0.0000e+00, 0.0000e+00, 0.0000e+00, 0.0000e+00, 0.0000e+00],\n",
      "          [0.0000e+00, 0.0000e+00, 0.0000e+00, 0.0000e+00, 0.0000e+00,\n",
      "           0.0000e+00, 0.0000e+00, 0.0000e+00, 0.0000e+00, 0.0000e+00,\n",
      "           0.0000e+00, 0.0000e+00, 0.0000e+00, 0.0000e+00, 0.0000e+00,\n",
      "           0.0000e+00, 0.0000e+00, 0.0000e+00, 0.0000e+00, 0.0000e+00,\n",
      "           0.0000e+00, 0.0000e+00, 0.0000e+00, 0.0000e+00, 0.0000e+00],\n",
      "          [0.0000e+00, 0.0000e+00, 0.0000e+00, 0.0000e+00, 0.0000e+00,\n",
      "           0.0000e+00, 0.0000e+00, 0.0000e+00, 0.0000e+00, 0.0000e+00,\n",
      "           0.0000e+00, 0.0000e+00, 0.0000e+00, 0.0000e+00, 0.0000e+00,\n",
      "           0.0000e+00, 0.0000e+00, 0.0000e+00, 0.0000e+00, 0.0000e+00,\n",
      "           0.0000e+00, 0.0000e+00, 0.0000e+00, 0.0000e+00, 0.0000e+00],\n",
      "          [0.0000e+00, 0.0000e+00, 0.0000e+00, 0.0000e+00, 0.0000e+00,\n",
      "           0.0000e+00, 0.0000e+00, 0.0000e+00, 0.0000e+00, 0.0000e+00,\n",
      "           0.0000e+00, 0.0000e+00, 0.0000e+00, 0.0000e+00, 0.0000e+00,\n",
      "           0.0000e+00, 0.0000e+00, 0.0000e+00, 0.0000e+00, 0.0000e+00,\n",
      "           0.0000e+00, 0.0000e+00, 0.0000e+00, 0.0000e+00, 0.0000e+00],\n",
      "          [0.0000e+00, 0.0000e+00, 0.0000e+00, 0.0000e+00, 0.0000e+00,\n",
      "           0.0000e+00, 0.0000e+00, 0.0000e+00, 0.0000e+00, 0.0000e+00,\n",
      "           0.0000e+00, 0.0000e+00, 0.0000e+00, 0.0000e+00, 0.0000e+00,\n",
      "           0.0000e+00, 0.0000e+00, 0.0000e+00, 0.0000e+00, 0.0000e+00,\n",
      "           0.0000e+00, 0.0000e+00, 0.0000e+00, 0.0000e+00, 0.0000e+00],\n",
      "          [0.0000e+00, 0.0000e+00, 0.0000e+00, 0.0000e+00, 0.0000e+00,\n",
      "           0.0000e+00, 0.0000e+00, 0.0000e+00, 0.0000e+00, 0.0000e+00,\n",
      "           0.0000e+00, 0.0000e+00, 0.0000e+00, 0.0000e+00, 0.0000e+00,\n",
      "           0.0000e+00, 0.0000e+00, 0.0000e+00, 0.0000e+00, 0.0000e+00,\n",
      "           0.0000e+00, 0.0000e+00, 0.0000e+00, 0.0000e+00, 0.0000e+00],\n",
      "          [0.0000e+00, 0.0000e+00, 0.0000e+00, 0.0000e+00, 0.0000e+00,\n",
      "           0.0000e+00, 0.0000e+00, 0.0000e+00, 0.0000e+00, 0.0000e+00,\n",
      "           0.0000e+00, 0.0000e+00, 0.0000e+00, 0.0000e+00, 0.0000e+00,\n",
      "           0.0000e+00, 0.0000e+00, 0.0000e+00, 0.0000e+00, 0.0000e+00,\n",
      "           0.0000e+00, 0.0000e+00, 0.0000e+00, 0.0000e+00, 0.0000e+00],\n",
      "          [0.0000e+00, 0.0000e+00, 0.0000e+00, 0.0000e+00, 0.0000e+00,\n",
      "           0.0000e+00, 0.0000e+00, 0.0000e+00, 0.0000e+00, 0.0000e+00,\n",
      "           0.0000e+00, 0.0000e+00, 0.0000e+00, 0.0000e+00, 0.0000e+00,\n",
      "           0.0000e+00, 0.0000e+00, 0.0000e+00, 0.0000e+00, 0.0000e+00,\n",
      "           0.0000e+00, 0.0000e+00, 0.0000e+00, 0.0000e+00, 0.0000e+00],\n",
      "          [0.0000e+00, 0.0000e+00, 0.0000e+00, 0.0000e+00, 0.0000e+00,\n",
      "           0.0000e+00, 0.0000e+00, 0.0000e+00, 0.0000e+00, 0.0000e+00,\n",
      "           0.0000e+00, 0.0000e+00, 0.0000e+00, 0.0000e+00, 0.0000e+00,\n",
      "           0.0000e+00, 0.0000e+00, 0.0000e+00, 0.0000e+00, 0.0000e+00,\n",
      "           0.0000e+00, 0.0000e+00, 0.0000e+00, 0.0000e+00, 0.0000e+00],\n",
      "          [0.0000e+00, 0.0000e+00, 0.0000e+00, 0.0000e+00, 0.0000e+00,\n",
      "           0.0000e+00, 0.0000e+00, 0.0000e+00, 0.0000e+00, 0.0000e+00,\n",
      "           0.0000e+00, 0.0000e+00, 0.0000e+00, 0.0000e+00, 0.0000e+00,\n",
      "           0.0000e+00, 0.0000e+00, 0.0000e+00, 0.0000e+00, 0.0000e+00,\n",
      "           0.0000e+00, 0.0000e+00, 0.0000e+00, 0.0000e+00, 0.0000e+00],\n",
      "          [0.0000e+00, 0.0000e+00, 0.0000e+00, 0.0000e+00, 0.0000e+00,\n",
      "           0.0000e+00, 0.0000e+00, 0.0000e+00, 0.0000e+00, 0.0000e+00,\n",
      "           0.0000e+00, 0.0000e+00, 0.0000e+00, 0.0000e+00, 0.0000e+00,\n",
      "           0.0000e+00, 0.0000e+00, 0.0000e+00, 0.0000e+00, 0.0000e+00,\n",
      "           0.0000e+00, 0.0000e+00, 0.0000e+00, 0.0000e+00, 0.0000e+00],\n",
      "          [0.0000e+00, 0.0000e+00, 0.0000e+00, 0.0000e+00, 0.0000e+00,\n",
      "           0.0000e+00, 0.0000e+00, 0.0000e+00, 0.0000e+00, 0.0000e+00,\n",
      "           0.0000e+00, 0.0000e+00, 0.0000e+00, 0.0000e+00, 0.0000e+00,\n",
      "           0.0000e+00, 0.0000e+00, 0.0000e+00, 0.0000e+00, 0.0000e+00,\n",
      "           0.0000e+00, 0.0000e+00, 0.0000e+00, 0.0000e+00, 0.0000e+00]]]])\n",
      "Label for first image: 0.0\n"
     ]
    },
    {
     "data": {
      "image/png": "[encoded data removed]",
      "text/plain": [
       "<Figure size 640x480 with 1 Axes>"
      ]
     },
     "metadata": {},
     "output_type": "display_data"
    }
   ],
   "source": [
    "for i, (images, labels) in enumerate(train_loader):\n",
    "    print(f\"Batch {i+1}\")\n",
    "    print(f\"Images shape: {images.shape}\")  # 打印图像张量的形状\n",
    "    print(f\"Labels shape: {labels.shape}\")  # 打印标签张量的形状\n",
    "    \n",
    "    # 举例来说，你可以查看第一张图像和它的标签\n",
    "    first_frame = images[0]  # 获取批次中的第一张图像\n",
    "    first_label = labels[0]  # 获取第一张图像对应的标签\n",
    "    \n",
    "    # 打印第一张图像和它的标签\n",
    "    print(f\"First image in batch: {first_frame}\")\n",
    "    print(f\"Label for first image: {first_label}\")\n",
    "\n",
    "    show_image(first_frame)\n",
    "    break"
   ]
  },
  {
   "cell_type": "code",
   "execution_count": 13,
   "id": "ef2d3909-9757-4fce-8822-dddc1aa2e997",
   "metadata": {
    "ExecuteTime": {
     "end_time": "2024-01-29T16:56:43.507071Z",
     "start_time": "2024-01-29T16:51:30.100238Z"
    }
   },
   "outputs": [
    {
     "name": "stderr",
     "output_type": "stream",
     "text": [
      "[1/20] Loss: 0.0033: 100%|██████████| 7875/7875 [00:16<00:00, 475.32step/s]\n",
      "[2/20] Loss: 0.0030: 100%|██████████| 7875/7875 [00:16<00:00, 482.92step/s]\n",
      "[3/20] Loss: 0.0029: 100%|██████████| 7875/7875 [00:17<00:00, 454.77step/s]\n",
      "[4/20] Loss: 0.0025: 100%|██████████| 7875/7875 [00:18<00:00, 432.55step/s]\n",
      "[5/20] Loss: 0.0021: 100%|██████████| 7875/7875 [00:17<00:00, 446.29step/s]\n",
      "[6/20] Loss: 0.0021: 100%|██████████| 7875/7875 [00:17<00:00, 437.52step/s]\n",
      "[7/20] Loss: 0.0019: 100%|██████████| 7875/7875 [00:18<00:00, 429.91step/s]\n",
      "[8/20] Loss: 0.0019: 100%|██████████| 7875/7875 [00:18<00:00, 435.25step/s]\n",
      "[9/20] Loss: 0.0019: 100%|██████████| 7875/7875 [00:17<00:00, 441.90step/s]\n",
      "[10/20] Loss: 0.0018: 100%|██████████| 7875/7875 [00:17<00:00, 438.15step/s]\n",
      "[11/20] Loss: 0.0018: 100%|██████████| 7875/7875 [00:17<00:00, 438.85step/s]\n",
      "[12/20] Loss: 0.0017: 100%|██████████| 7875/7875 [00:14<00:00, 528.29step/s]\n",
      "[13/20] Loss: 0.0016: 100%|██████████| 7875/7875 [00:14<00:00, 556.89step/s]\n",
      "[14/20] Loss: 0.0017: 100%|██████████| 7875/7875 [00:13<00:00, 594.78step/s]\n",
      "[15/20] Loss: 0.0017: 100%|██████████| 7875/7875 [00:12<00:00, 616.73step/s]\n",
      "[16/20] Loss: 0.0016: 100%|██████████| 7875/7875 [00:12<00:00, 618.47step/s]\n",
      "[17/20] Loss: 0.0017: 100%|██████████| 7875/7875 [00:12<00:00, 616.26step/s]\n",
      "[18/20] Loss: 0.0016: 100%|██████████| 7875/7875 [00:12<00:00, 610.99step/s]\n",
      "[19/20] Loss: 0.0017: 100%|██████████| 7875/7875 [00:12<00:00, 618.08step/s]\n",
      "[20/20] Loss: 0.0016: 100%|██████████| 7875/7875 [00:12<00:00, 614.90step/s]\n"
     ]
    }
   ],
   "source": [
    "net = Model()\n",
    "criterion = nn.MSELoss()\n",
    "learning_rate = 0.0001\n",
    "optimizer = optim.Adam(net.parameters(), lr=learning_rate)\n",
    "EPOCHS = 20\n",
    "for epoch in range(1, EPOCHS + 1):\n",
    "    processBar = tqdm(train_loader, unit='step')\n",
    "    for step, (trainImgs, labels) in enumerate(processBar):\n",
    "        # 展平图像：从 [batch_size, 25, 25] 变为 [batch_size, 625]\n",
    "        flattened_trainImgs = trainImgs.view(trainImgs.size(0), -1)\n",
    "\n",
    "        optimizer.zero_grad()\n",
    "        Output = net.autoencoder_train(flattened_trainImgs)\n",
    "\n",
    "        loss = criterion(Output, flattened_trainImgs)  # 使用展平的图像计算损失\n",
    "\n",
    "        loss.backward()\n",
    "        optimizer.step()\n",
    "        processBar.set_description(f\"[{epoch}/{EPOCHS}] Loss: {loss.item():.4f}\")\n",
    "\n",
    "\n",
    "plt.figure(figsize=(16, 64))\n",
    "for i in range(8):\n",
    "    original_frame = flattened_trainImgs[i].reshape(25, 25)\n",
    "    Output_frame = Output[i].detach().reshape(25,25)\n",
    "    plt.subplot(8, 2, (i + 1) * 2 - 1)\n",
    "    plt.imshow(original_frame, cmap='gray')  # 使用灰度颜色映射\n",
    "    plt.title('Restored Image')\n",
    "    plt.axis('off')  # 不显示坐标轴\n",
    "    plt.subplot(8, 2, (i + 1) * 2)\n",
    "    plt.imshow(Output_frame, cmap='gray')  # 使用灰度颜色映射\n",
    "    plt.title('Restored Image')\n",
    "    plt.axis('off')  # 不显示坐标轴\n",
    "plt.subplots_adjust(wspace=0.2, hspace=0.4)  # wspace是子图之间的宽度间距，hspace是高度间距\n",
    "plt.show()"
   ]
  },
  {
   "cell_type": "code",
   "execution_count": 12,
   "id": "fc9f9dae-38c5-451c-b953-2c16b5e59dc9",
   "metadata": {
    "ExecuteTime": {
     "end_time": "2024-01-29T19:37:11.897288Z",
     "start_time": "2024-01-29T19:33:05.049204Z"
    }
   },
   "outputs": [
    {
     "name": "stderr",
     "output_type": "stream",
     "text": [
      "  0%|                                                                                                                                                                                      | 0/7875 [00:00<?, ?step/s]/Users/dongzhiyu/anaconda3/envs/biolearning/lib/python3.11/site-packages/torch/nn/modules/loss.py:535: UserWarning: Using a target size (torch.Size([8])) that is different to the input size (torch.Size([8, 1])). This will likely lead to incorrect results due to broadcasting. Please ensure they have the same size.\n",
      "  return F.mse_loss(input, target, reduction=self.reduction)\n",
      "[1/20] Loss: 0.0003: 100%|█████████████████████████████████████████████████████████████████████████████████████████████████████████████████████████████████████████████████████| 7875/7875 [00:14<00:00, 554.40step/s]\n"
     ]
    },
    {
     "name": "stdout",
     "output_type": "stream",
     "text": [
      "Accuracy:7.28%\n"
     ]
    },
    {
     "name": "stderr",
     "output_type": "stream",
     "text": [
      "[2/20] Loss: 0.0004: 100%|█████████████████████████████████████████████████████████████████████████████████████████████████████████████████████████████████████████████████████| 7875/7875 [00:14<00:00, 561.26step/s]\n"
     ]
    },
    {
     "name": "stdout",
     "output_type": "stream",
     "text": [
      "Accuracy:7.72%\n"
     ]
    },
    {
     "name": "stderr",
     "output_type": "stream",
     "text": [
      "[3/20] Loss: 0.0004: 100%|█████████████████████████████████████████████████████████████████████████████████████████████████████████████████████████████████████████████████████| 7875/7875 [00:14<00:00, 559.88step/s]\n"
     ]
    },
    {
     "name": "stdout",
     "output_type": "stream",
     "text": [
      "Accuracy:7.72%\n"
     ]
    },
    {
     "name": "stderr",
     "output_type": "stream",
     "text": [
      "[4/20] Loss: 0.0003: 100%|█████████████████████████████████████████████████████████████████████████████████████████████████████████████████████████████████████████████████████| 7875/7875 [00:14<00:00, 560.09step/s]\n"
     ]
    },
    {
     "name": "stdout",
     "output_type": "stream",
     "text": [
      "Accuracy:7.72%\n"
     ]
    },
    {
     "name": "stderr",
     "output_type": "stream",
     "text": [
      "[5/20] Loss: 0.0581:  98%|██████████████████████████████████████████████████████████████████████████████████████████████████████████████████████████████████████████████████   | 7719/7875 [00:13<00:00, 562.85step/s]\n"
     ]
    },
    {
     "ename": "KeyboardInterrupt",
     "evalue": "",
     "output_type": "error",
     "traceback": [
      "\u001b[0;31m---------------------------------------------------------------------------\u001b[0m",
      "\u001b[0;31mKeyboardInterrupt\u001b[0m                         Traceback (most recent call last)",
      "Cell \u001b[0;32mIn[12], line 24\u001b[0m\n\u001b[1;32m     22\u001b[0m     actual \u001b[38;5;241m=\u001b[39m (labels \u001b[38;5;241m>\u001b[39m\u001b[38;5;241m=\u001b[39m \u001b[38;5;241m0.25\u001b[39m)\u001b[38;5;241m.\u001b[39mfloat()\n\u001b[1;32m     23\u001b[0m     \u001b[38;5;66;03m# 计算正确预测的数量\u001b[39;00m\n\u001b[0;32m---> 24\u001b[0m     correct \u001b[38;5;241m+\u001b[39m\u001b[38;5;241m=\u001b[39m (predicted \u001b[38;5;241m==\u001b[39m actual)\u001b[38;5;241m.\u001b[39msum()\u001b[38;5;241m.\u001b[39mitem()\n\u001b[1;32m     25\u001b[0m     total \u001b[38;5;241m+\u001b[39m\u001b[38;5;241m=\u001b[39m labels\u001b[38;5;241m.\u001b[39msize(\u001b[38;5;241m0\u001b[39m)  \u001b[38;5;66;03m# 更新总帧数\u001b[39;00m\n\u001b[1;32m     27\u001b[0m accuracy \u001b[38;5;241m=\u001b[39m correct \u001b[38;5;241m/\u001b[39m total\n",
      "\u001b[0;31mKeyboardInterrupt\u001b[0m: "
     ]
    }
   ],
   "source": [
    "net = Model()\n",
    "criterion = nn.MSELoss()\n",
    "learning_rate = 0.0001\n",
    "optimizer = optim.Adam(net.parameters(), lr=learning_rate)\n",
    "EPOCHS = 20\n",
    "for epoch in range(1, EPOCHS + 1):\n",
    "    processBar = tqdm(train_loader, unit='step')\n",
    "    total = 0\n",
    "    correct = 0\n",
    "    for step, (trainImgs, labels) in enumerate(processBar):\n",
    "        # 展平图像：从 [batch_size, 25, 25] 变为 [batch_size, 625]\n",
    "        flattened_trainImgs = trainImgs.view(trainImgs.size(0), -1)\n",
    "\n",
    "        optimizer.zero_grad()\n",
    "        encode_data = net.encode(flattened_trainImgs)\n",
    "        Output = net.predictor_train(encode_data)\n",
    "        loss = criterion(Output, labels)  # 使用修改后的输出计算损失\n",
    "        loss.backward()\n",
    "        optimizer.step()\n",
    "        processBar.set_description(f\"[{epoch}/{EPOCHS}] Loss: {loss.item():.4f}\")\n",
    "        predicted = (Output >= 0.25).float()\n",
    "        actual = (labels >= 0.25).float()\n",
    "        # 计算正确预测的数量\n",
    "        correct += (predicted == actual).sum().item()\n",
    "        total += labels.size(0)  # 更新总帧数\n",
    "\n",
    "    accuracy = correct / total\n",
    "    print(f'Accuracy:{accuracy:.2f}%')"
   ]
  },
  {
   "cell_type": "code",
   "execution_count": 22,
   "id": "771d70ea-15a2-410d-a822-d605231d0718",
   "metadata": {},
   "outputs": [
    {
     "data": {
      "text/plain": [
       "tensor([[0.5000],\n",
       "        [0.5000],\n",
       "        [0.5000],\n",
       "        [0.5000],\n",
       "        [0.5000],\n",
       "        [0.5000],\n",
       "        [0.5000],\n",
       "        [0.5000]], grad_fn=<CopySlices>)"
      ]
     },
     "execution_count": 22,
     "metadata": {},
     "output_type": "execute_result"
    }
   ],
   "source": [
    "Output"
   ]
  },
  {
   "cell_type": "code",
   "execution_count": 16,
   "id": "441596c1-f9cb-4489-b4ea-226873d13dea",
   "metadata": {},
   "outputs": [
    {
     "data": {
      "text/plain": [
       "tensor([0.0000, 0.0000, 0.0000, 0.0000, 0.5000, 0.0000, 0.0000, 0.0000])"
      ]
     },
     "execution_count": 16,
     "metadata": {},
     "output_type": "execute_result"
    }
   ],
   "source": [
    "labels"
   ]
  },
  {
   "cell_type": "markdown",
   "id": "b9151a3a-f25f-4f27-b19d-437fc59589dc",
   "metadata": {
    "ExecuteTime": {
     "end_time": "2024-01-29T19:37:53.083788Z",
     "start_time": "2024-01-29T19:37:53.076365Z"
    },
    "scrolled": true
   },
   "source": [
    "### 👇predictor 构建与测试"
   ]
  },
  {
   "cell_type": "code",
   "execution_count": 9,
   "id": "f3fcf6de-6f24-4131-914e-06cd2fbb248b",
   "metadata": {},
   "outputs": [],
   "source": [
    "model = Model()\n",
    "criterion = nn.MSELoss()\n",
    "learning_rate = 0.0001\n",
    "optimizer = optim.SGD(Model.parameters(), lr=learning_rate)"
   ]
  },
  {
   "cell_type": "code",
   "execution_count": 43,
   "id": "bb65963a-fdca-46e6-8549-406012088a3e",
   "metadata": {},
   "outputs": [
    {
     "name": "stdout",
     "output_type": "stream",
     "text": [
      "9000\n"
     ]
    }
   ],
   "source": [
    "import numpy as np\n",
    "encoding_data = []\n",
    "for name, frames in videos.items():\n",
    "    encoding = []\n",
    "    for frame in frames:\n",
    "        # 假设 frame.view(-1, width * height) 已经是合适的形状\n",
    "        flattened_frame = frame.view(-1, width * height)\n",
    "        encode_frame = model.encode(flattened_frame)\n",
    "        # 直接转换为 numpy 数组，避免后续转换\n",
    "        encoding.append(np.array(encode_frame.detach()))\n",
    "\n",
    "    batch_encoding = []\n",
    "    for encoded_frame in encoding:\n",
    "        # 直接使用 numpy 的 flatten 方法将多维数组转换为一维数组\n",
    "        batch = encoded_frame.flatten()\n",
    "        batch_encoding.append(batch.tolist())  # 如果需要 Python 列表，再转换回来\n",
    "\n",
    "    encoding_data.append(batch_encoding)"
   ]
  },
  {
   "cell_type": "code",
   "execution_count": 46,
   "id": "657379ab-f49d-4c5b-9ba6-f8e06c8b6156",
   "metadata": {},
   "outputs": [
    {
     "name": "stdout",
     "output_type": "stream",
     "text": [
      "[0.35820579528808594, -1.454702377319336, 0.9111995697021484, 0.6865577697753906, 0.26776123046875, 0.44615936279296875, 0.17462539672851562, 1.4844245910644531, 0.21605682373046875, 0.9736671447753906, -1.408864974975586, -1.2820587158203125, -1.0644721984863281, -2.5672969818115234, -0.6538982391357422, 1.0211849212646484, 0.7836704254150391, 0.16757774353027344, 1.378570556640625, -0.24519920349121094, 0.6482257843017578, -0.36518287658691406, -0.3704032897949219, 1.0497398376464844, -0.7937507629394531, -0.9812583923339844, -0.987945556640625, 0.6733036041259766, -0.35381317138671875, 1.2879276275634766]\n"
     ]
    }
   ],
   "source": [
    "print(encoding_data[0])"
   ]
  },
  {
   "cell_type": "code",
   "execution_count": null,
   "id": "f8d41fc1-2898-416c-9930-58af54deee5c",
   "metadata": {},
   "outputs": [],
   "source": [
    "for i in range(8):\n",
    "    n = 0\n",
    "    name = random.choice(train_label_file)\n",
    "\n",
    "    batch_expected_outputs = []\n",
    "    expected_output = spike_time[name]\n",
    "    k = random.randint(0, 1)\n",
    "    error = True\n",
    "    while error:\n",
    "        n = random.randint(len(expected_output) - 1) \n",
    "        if (k < 0.25 and expected_output[n] < 0.25) or (k > 0.25 and expected_output[n] > 0.25):\n",
    "            error = False\n",
    "    batch_expected_outputs.append(expected_output[n])\n",
    "    expected_outputs.append(batch_expected_outputs)"
   ]
  },
  {
   "cell_type": "code",
   "execution_count": 17,
   "id": "7e062508-0298-4487-8e0c-d83ece9b8fdc",
   "metadata": {},
   "outputs": [
    {
     "name": "stdout",
     "output_type": "stream",
     "text": [
      "[0.  0.  0.5 ... 0.  0.  0. ]\n"
     ]
    },
    {
     "data": {
      "image/png": "[encoded data removed]",
      "text/plain": [
       "<Figure size 640x480 with 1 Axes>"
      ]
     },
     "metadata": {},
     "output_type": "display_data"
    }
   ],
   "source": [
    "first_spike_time = spike_times[label_files[0]]\n",
    "array = np.array(first_spike_time)\n",
    "print(array)\n",
    "\n",
    "plt.figure()\n",
    "plt.plot(array)\n",
    "plt.xlabel('frame index')\n",
    "plt.ylabel('spike')\n",
    "plt.show()"
   ]
  },
  {
   "cell_type": "code",
   "execution_count": 21,
   "id": "38344f59-04c9-416c-9edd-1ce939c13776",
   "metadata": {},
   "outputs": [
    {
     "name": "stdout",
     "output_type": "stream",
     "text": [
      "[11, 11, 2, 2, 1, 1, 3, 5, 2, 3, 4, 6, 4, 4, 2, 5, 4, 4, 4, 3, 3, 2, 5, 2, 6, 1, 4, 4, 4, 3, 2, 4, 6, 1, 6, 3, 5, 6, 1, 4, 3, 9, 6, 2, 1, 5, 3, 5, 3, 4, 4, 4, 5, 4, 2, 5, 4, 3, 2, 3, 3, 3, 3, 9, 3, 3, 4, 4, 4]\n",
      "[0.  0.  0.5 0.5 0.5 0.5 0.5 0.5 0.5 0.5 0.5 0.5 0.5 0.  0.  0.  0.  0.\n",
      " 0.  0. ]\n",
      "The average length of continuous ones is: 3.8550724637681157\n"
     ]
    }
   ],
   "source": [
    "def average_length_of_ones(sequence):\n",
    "    count = 0  # 当前连续1的计数\n",
    "    lengths = []  # 存储每段连续1的长度\n",
    "\n",
    "    for i in sequence:\n",
    "        if i == 0.5:\n",
    "            count += 1  # 如果当前元素为1，则增加计数\n",
    "        else:\n",
    "            if count > 0:\n",
    "                lengths.append(count)  # 如果当前元素不为1，且之前有连续1，则记录长度\n",
    "                count = 0  # 重置计数\n",
    "\n",
    "    if count > 0:\n",
    "        lengths.append(count)  # 处理数组末尾的连续1\n",
    "    print(lengths)\n",
    "    if lengths:\n",
    "        return sum(lengths) / len(lengths)  # 计算平均长度\n",
    "    else:\n",
    "        return 0  # 如果数组中没有1，则返回0\n",
    "\n",
    "average_length = average_length_of_ones(array)\n",
    "print(array[:20])\n",
    "print(f\"The average length of continuous ones is: {average_length}\")"
   ]
  },
  {
   "cell_type": "code",
   "execution_count": null,
   "id": "833758bf-87c2-4bc0-9a52-2fa042d6a820",
   "metadata": {},
   "outputs": [],
   "source": []
  }
 ],
 "metadata": {
  "kernelspec": {
   "display_name": "Python 3 (ipykernel)",
   "language": "python",
   "name": "python3"
  },
  "language_info": {
   "codemirror_mode": {
    "name": "ipython",
    "version": 3
   },
   "file_extension": ".py",
   "mimetype": "text/x-python",
   "name": "python",
   "nbconvert_exporter": "python",
   "pygments_lexer": "ipython3",
   "version": "3.11.0"
  }
 },
 "nbformat": 4,
 "nbformat_minor": 5
}
