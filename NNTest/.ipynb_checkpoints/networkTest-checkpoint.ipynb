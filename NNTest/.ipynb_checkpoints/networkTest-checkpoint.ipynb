{
 "cells": [
  {
   "cell_type": "code",
   "execution_count": 1,
   "id": "initial_id",
   "metadata": {},
   "outputs": [],
   "source": [
    "import cv2\n",
    "import os\n",
    "import os.path\n",
    "import sys\n",
    "import torch\n",
    "import matplotlib.pyplot as plt\n",
    "import numpy as np\n",
    "\n",
    "from network import Model"
   ]
  },
  {
   "cell_type": "code",
   "execution_count": 2,
   "id": "bdb3a9fc-e2a0-44fb-89c3-19331202245a",
   "metadata": {},
   "outputs": [],
   "source": [
    "width = 25\n",
    "height = 25\n",
    "channel = 1"
   ]
  },
  {
   "cell_type": "code",
   "execution_count": 3,
   "id": "cd230e0c-8f9e-403b-a624-e0435de80dd6",
   "metadata": {},
   "outputs": [],
   "source": [
    "net = Model()"
   ]
  },
  {
   "cell_type": "code",
   "execution_count": 4,
   "id": "235f2332-cdab-4de3-9e59-c647e152c68c",
   "metadata": {},
   "outputs": [],
   "source": [
    "def show_image(tensor_list):\n",
    "    \n",
    "    # 将选定的帧转换为numpy数组\n",
    "    frame_np = tensor_list.squeeze().numpy()  # 直接使用squeeze()和numpy()，省略permute()\n",
    "    \n",
    "    # 将数据类型从float转换回uint8（如果之前进行了归一化）\n",
    "    frame_np = (frame_np * 255).astype(np.uint8)\n",
    "    \n",
    "    # 使用matplotlib展示这一帧\n",
    "    import matplotlib.pyplot as plt\n",
    "    \n",
    "    plt.imshow(frame_np, cmap='gray')  # 对于灰度图，确保使用正确的颜色映射\n",
    "    plt.title(f'Frame {0}')\n",
    "    plt.axis('off')  # 不显示坐标轴\n",
    "    plt.show()\n"
   ]
  },
  {
   "cell_type": "code",
   "execution_count": 5,
   "id": "d754acf0-a842-4fbe-af5f-e2781a30171f",
   "metadata": {},
   "outputs": [
    {
     "name": "stdout",
     "output_type": "stream",
     "text": [
      "['STMD_0.avi', 'STMD_1.avi', 'STMD_2.avi', 'STMD_3.avi', 'STMD_4.avi', 'STMD_5.avi', 'STMD_6.avi', 'STMD_7.avi', 'STMD_8.avi', 'STMD_9.avi']\n",
      "['STMD_0.txt', 'STMD_1.txt', 'STMD_2.txt', 'STMD_3.txt', 'STMD_4.txt', 'STMD_5.txt', 'STMD_6.txt', 'STMD_7.txt', 'STMD_8.txt', 'STMD_9.txt']\n",
      "['STMD_0.avi', 'STMD_4.avi', 'STMD_8.avi']\n",
      "['STMD_0.txt', 'STMD_4.txt', 'STMD_8.txt']\n",
      "['STMD_1.avi', 'STMD_2.avi', 'STMD_3.avi', 'STMD_5.avi', 'STMD_6.avi', 'STMD_7.avi', 'STMD_9.avi']\n",
      "['STMD_1.txt', 'STMD_2.txt', 'STMD_3.txt', 'STMD_5.txt', 'STMD_6.txt', 'STMD_7.txt', 'STMD_9.txt']\n"
     ]
    }
   ],
   "source": [
    "video_path = '../InputVideo/Train_Video'\n",
    "label_path = '../InputVideo/Train_Label'\n",
    "\n",
    "video_files = [f for f in sorted(os.listdir(video_path)) if f.endswith('.avi')]\n",
    "label_files = [f for f in sorted(os.listdir(label_path)) if f.endswith('.txt')]\n",
    "print(video_files)\n",
    "print(label_files)\n",
    "\n",
    "test_video_file = []\n",
    "test_label_file = []\n",
    "train_video_file = []\n",
    "train_label_file = []\n",
    "\n",
    "for index in range(len(video_files)):\n",
    "    if index % 4 == 0:\n",
    "        test_video_file.append(video_files[index])\n",
    "        test_label_file.append(label_files[index])\n",
    "    else:\n",
    "        train_video_file.append(video_files[index])\n",
    "        train_label_file.append(label_files[index])\n",
    "\n",
    "print(test_video_file)\n",
    "print(test_label_file)\n",
    "print(train_video_file)\n",
    "print(train_label_file)"
   ]
  },
  {
   "cell_type": "code",
   "execution_count": 6,
   "id": "180462ac-53b3-4176-8b66-56f03c919ec7",
   "metadata": {},
   "outputs": [
    {
     "data": {
      "image/png": "[encoded data removed]",
      "text/plain": [
       "<Figure size 640x480 with 1 Axes>"
      ]
     },
     "metadata": {},
     "output_type": "display_data"
    }
   ],
   "source": [
    "## Load All Videos\n",
    "InputSize = 0\n",
    "InputVideoRatio = None\n",
    "videos = {}\n",
    "for filename in video_files:\n",
    "    videoLoader = cv2.VideoCapture(video_path + \"/\" + filename)\n",
    "    n = 0\n",
    "    frame_tensors = []\n",
    "    while True:\n",
    "        ret, frame = videoLoader.read()\n",
    "        if ret is False:\n",
    "            break\n",
    "        # 1. 将BGR图像转换为灰度图\n",
    "        frame_gray = cv2.cvtColor(frame, cv2.COLOR_BGR2GRAY)\n",
    "        # 2. 将数据类型转换为float32，并缩放到0-1范围\n",
    "        frame_gray = frame_gray.astype(np.float32) / 255.0\n",
    "        # 3. 重新调整图像尺寸（如果需要保持原尺寸，这一步可以省略）\n",
    "        frame_resized = cv2.resize(frame_gray, (width, height))\n",
    "        # 4. 将numpy数组转换为torch Tensor，并确保其形状为[1, height, width]，这里不需要使用permute\n",
    "        frame_tensor = torch.tensor(frame_resized).unsqueeze(0).unsqueeze(0)  # 在0位置增加两个维度，变为[1, 1, height, width]\n",
    "        frame_tensors.append(frame_tensor)\n",
    "    videoLoader.release()\n",
    "    videos[filename] = frame_tensors\n",
    "\n",
    "\n",
    "frames_tensor = torch.cat(videos[video_files[3]], dim=0)  # 结果维度为 [帧数, 通道数, 高度, 宽度]\n",
    "selected_frame = frames_tensor[0]\n",
    "\n",
    "# 将选定的帧转换为numpy数组\n",
    "frame_np = selected_frame.squeeze().numpy()  # 直接使用squeeze()和numpy()，省略permute()\n",
    "\n",
    "# 将数据类型从float转换回uint8（如果之前进行了归一化）\n",
    "frame_np = (frame_np * 255).astype(np.uint8)\n",
    "\n",
    "# 使用matplotlib展示这一帧\n",
    "import matplotlib.pyplot as plt\n",
    "\n",
    "plt.imshow(frame_np, cmap='gray')  # 对于灰度图，确保使用正确的颜色映射\n",
    "plt.title(f'Frame {0}')\n",
    "plt.axis('off')  # 不显示坐标轴\n",
    "plt.show()"
   ]
  },
  {
   "cell_type": "code",
   "execution_count": 7,
   "id": "64403c62-a78b-470f-9ab9-b500e0c0f2e0",
   "metadata": {},
   "outputs": [
    {
     "name": "stdout",
     "output_type": "stream",
     "text": [
      "dict_keys(['STMD_0.avi', 'STMD_1.avi', 'STMD_2.avi', 'STMD_3.avi', 'STMD_4.avi', 'STMD_5.avi', 'STMD_6.avi', 'STMD_7.avi', 'STMD_8.avi', 'STMD_9.avi'])\n"
     ]
    }
   ],
   "source": [
    "print(videos.keys())"
   ]
  },
  {
   "cell_type": "code",
   "execution_count": 8,
   "id": "ac3c9c32-fd67-44db-b6a1-1b521089079b",
   "metadata": {},
   "outputs": [
    {
     "name": "stdout",
     "output_type": "stream",
     "text": [
      "tensor([0.0000, 0.0000, 0.5000,  ..., 0.0000, 0.0000, 0.0000])\n"
     ]
    }
   ],
   "source": [
    "## Load Cooresponding Labels (Spike Time)\n",
    "spike_times = {}\n",
    "for labelName in label_files:\n",
    "    spikes = [0] * len(frames_tensor)\n",
    "    with open(label_path + \"/\" + labelName, 'r') as file:\n",
    "        for line in file:\n",
    "            try:\n",
    "                spike_index = int(line.strip())\n",
    "                spikes[spike_index] = 1\n",
    "            except ValueError:\n",
    "                print(f\"Skipping invalid number: {line.strip()}\")\n",
    "    spike_tensor = torch.tensor([element / 2 for element in spikes])\n",
    "    spike_times[labelName] = spike_tensor\n",
    "\n",
    "print(spike_times[label_files[0]])"
   ]
  },
  {
   "cell_type": "code",
   "execution_count": 9,
   "id": "08368dc0-259e-4dee-b5d5-883540eb1c6f",
   "metadata": {},
   "outputs": [
    {
     "name": "stdout",
     "output_type": "stream",
     "text": [
      "torch.Size([1, 1, 25, 25])\n",
      "torch.Size([1, 1, 25, 25])\n",
      "torch.Size([1, 1, 25, 25])\n",
      "torch.Size([1, 1, 25, 25])\n",
      "torch.Size([1, 1, 25, 25])\n",
      "torch.Size([1, 1, 25, 25])\n",
      "torch.Size([1, 1, 25, 25])\n",
      "torch.Size([1, 1, 25, 25])\n",
      "torch.Size([1, 1, 25, 25])\n",
      "torch.Size([1, 1, 25, 25])\n",
      "torch.Size([9000])\n",
      "torch.Size([9000])\n",
      "torch.Size([9000])\n",
      "torch.Size([9000])\n",
      "torch.Size([9000])\n",
      "torch.Size([9000])\n",
      "torch.Size([9000])\n",
      "torch.Size([9000])\n",
      "torch.Size([9000])\n",
      "torch.Size([9000])\n"
     ]
    }
   ],
   "source": [
    "for name in video_files:\n",
    "    print(videos[name][2].shape) ## 输出为[帧数，通道数，宽度，高度]\n",
    "\n",
    "for name in label_files:\n",
    "    print(spike_times[name].shape)"
   ]
  },
  {
   "cell_type": "code",
   "execution_count": 10,
   "id": "b2da11f1-81de-4d1e-8a04-d44212928b8c",
   "metadata": {},
   "outputs": [],
   "source": [
    "from torch.utils.data import Dataset, DataLoader\n",
    "import torch\n",
    "\n",
    "class VideoFrameDataset(Dataset):\n",
    "    def __init__(self, data_dict, label_dict):\n",
    "        \"\"\"\n",
    "        初始化数据集\n",
    "        :param data_dict: 包含视频帧数据的字典，键为文件名，值为帧的张量列表\n",
    "        :param label_dict: 包含帧标签的字典，键为文件名，值为对应帧的标签张量列表\n",
    "        \"\"\"\n",
    "        self.data = []\n",
    "        self.labels = []\n",
    "        \n",
    "        # 将视频帧和标签转换为一个长列表\n",
    "        for video_name in data_dict.keys():\n",
    "            # 使用与视频文件名相对应的标签文件名\n",
    "            label_name = video_name.replace('.avi', '.txt')\n",
    "            \n",
    "            # 检查视频文件和标签文件是否匹配\n",
    "            if label_name in label_dict:\n",
    "                for frame_data, frame_label in zip(data_dict[video_name], label_dict[label_name]):\n",
    "                    self.data.append(frame_data)\n",
    "                    self.labels.append(frame_label)\n",
    "            else:\n",
    "                print(f\"Warning: Missing labels for {video_name}\")\n",
    "\n",
    "    def __len__(self):\n",
    "        return len(self.data)\n",
    "\n",
    "    def __getitem__(self, index):\n",
    "        # 获取索引对应的数据和标签\n",
    "        data_item = self.data[index]\n",
    "        label_item = self.labels[index]\n",
    "        return data_item, label_item\n",
    "\n",
    "# 假设data_dict和label_dict已经定义并包含了数据和标签\n",
    "# data_dict = {'STMD_0.avi': [frame1, frame2, ...], ...}\n",
    "# label_dict = {'STMD_0.txt': [label1, label2, ...], ...}"
   ]
  },
  {
   "cell_type": "code",
   "execution_count": 11,
   "id": "2acc787a-4317-4076-ac1a-09dd4bc69efc",
   "metadata": {},
   "outputs": [],
   "source": [
    "train_video_set = {}\n",
    "train_label_set = {}\n",
    "test_label_set = {}\n",
    "test_video_set = {}\n",
    "batch_size = 8\n",
    "for name in videos:\n",
    "    if name in train_video_file:\n",
    "        train_video_set[name] = videos[name]\n",
    "    else:\n",
    "        test_video_set[name] = videos[name]\n",
    "    \n",
    "\n",
    "for name in spike_times:\n",
    "    if name in train_label_file:\n",
    "        train_label_set[name] = spike_times[name]\n",
    "    else:\n",
    "        test_label_set[name] = spike_times[name]\n",
    "\n",
    "train_Dataset = VideoFrameDataset(train_video_set, train_label_set)\n",
    "test_Dataset = VideoFrameDataset(test_video_set, test_label_set)\n",
    "\n",
    "train_loader = DataLoader(dataset=train_Dataset, batch_size=batch_size, shuffle=True)\n",
    "test_loader =  DataLoader(dataset=test_Dataset, batch_size=batch_size)"
   ]
  },
  {
   "cell_type": "code",
   "execution_count": 12,
   "id": "94e8a58c-189b-4ba1-8335-8c642314998d",
   "metadata": {},
   "outputs": [
    {
     "name": "stdout",
     "output_type": "stream",
     "text": [
      "Batch 1\n",
      "Images shape: torch.Size([8, 1, 1, 25, 25])\n",
      "Labels shape: torch.Size([8])\n",
      "First image in batch: tensor([[[[0.0000e+00, 0.0000e+00, 0.0000e+00, 0.0000e+00, 0.0000e+00,\n",
      "           0.0000e+00, 0.0000e+00, 0.0000e+00, 0.0000e+00, 0.0000e+00,\n",
      "           0.0000e+00, 0.0000e+00, 0.0000e+00, 0.0000e+00, 0.0000e+00,\n",
      "           0.0000e+00, 0.0000e+00, 0.0000e+00, 0.0000e+00, 0.0000e+00,\n",
      "           0.0000e+00, 0.0000e+00, 0.0000e+00, 0.0000e+00, 0.0000e+00],\n",
      "          [0.0000e+00, 0.0000e+00, 0.0000e+00, 0.0000e+00, 0.0000e+00,\n",
      "           0.0000e+00, 0.0000e+00, 0.0000e+00, 0.0000e+00, 0.0000e+00,\n",
      "           0.0000e+00, 0.0000e+00, 0.0000e+00, 0.0000e+00, 0.0000e+00,\n",
      "           0.0000e+00, 0.0000e+00, 0.0000e+00, 0.0000e+00, 0.0000e+00,\n",
      "           0.0000e+00, 0.0000e+00, 0.0000e+00, 0.0000e+00, 0.0000e+00],\n",
      "          [0.0000e+00, 0.0000e+00, 0.0000e+00, 0.0000e+00, 0.0000e+00,\n",
      "           0.0000e+00, 0.0000e+00, 0.0000e+00, 0.0000e+00, 0.0000e+00,\n",
      "           0.0000e+00, 0.0000e+00, 0.0000e+00, 0.0000e+00, 0.0000e+00,\n",
      "           0.0000e+00, 0.0000e+00, 0.0000e+00, 0.0000e+00, 0.0000e+00,\n",
      "           0.0000e+00, 0.0000e+00, 0.0000e+00, 0.0000e+00, 0.0000e+00],\n",
      "          [0.0000e+00, 0.0000e+00, 0.0000e+00, 0.0000e+00, 0.0000e+00,\n",
      "           0.0000e+00, 0.0000e+00, 0.0000e+00, 0.0000e+00, 0.0000e+00,\n",
      "           0.0000e+00, 0.0000e+00, 0.0000e+00, 0.0000e+00, 0.0000e+00,\n",
      "           0.0000e+00, 0.0000e+00, 0.0000e+00, 0.0000e+00, 0.0000e+00,\n",
      "           0.0000e+00, 0.0000e+00, 0.0000e+00, 0.0000e+00, 0.0000e+00],\n",
      "          [0.0000e+00, 0.0000e+00, 0.0000e+00, 0.0000e+00, 0.0000e+00,\n",
      "           0.0000e+00, 0.0000e+00, 0.0000e+00, 0.0000e+00, 0.0000e+00,\n",
      "           0.0000e+00, 0.0000e+00, 0.0000e+00, 0.0000e+00, 0.0000e+00,\n",
      "           0.0000e+00, 0.0000e+00, 0.0000e+00, 0.0000e+00, 0.0000e+00,\n",
      "           0.0000e+00, 0.0000e+00, 0.0000e+00, 0.0000e+00, 0.0000e+00],\n",
      "          [0.0000e+00, 0.0000e+00, 0.0000e+00, 0.0000e+00, 0.0000e+00,\n",
      "           0.0000e+00, 0.0000e+00, 0.0000e+00, 0.0000e+00, 0.0000e+00,\n",
      "           0.0000e+00, 0.0000e+00, 0.0000e+00, 0.0000e+00, 0.0000e+00,\n",
      "           0.0000e+00, 0.0000e+00, 0.0000e+00, 0.0000e+00, 0.0000e+00,\n",
      "           0.0000e+00, 0.0000e+00, 0.0000e+00, 0.0000e+00, 0.0000e+00],\n",
      "          [0.0000e+00, 0.0000e+00, 0.0000e+00, 0.0000e+00, 0.0000e+00,\n",
      "           0.0000e+00, 0.0000e+00, 0.0000e+00, 0.0000e+00, 0.0000e+00,\n",
      "           0.0000e+00, 0.0000e+00, 0.0000e+00, 0.0000e+00, 0.0000e+00,\n",
      "           0.0000e+00, 0.0000e+00, 0.0000e+00, 0.0000e+00, 0.0000e+00,\n",
      "           0.0000e+00, 0.0000e+00, 0.0000e+00, 0.0000e+00, 0.0000e+00],\n",
      "          [0.0000e+00, 0.0000e+00, 0.0000e+00, 0.0000e+00, 0.0000e+00,\n",
      "           0.0000e+00, 0.0000e+00, 0.0000e+00, 0.0000e+00, 0.0000e+00,\n",
      "           0.0000e+00, 0.0000e+00, 0.0000e+00, 0.0000e+00, 0.0000e+00,\n",
      "           0.0000e+00, 0.0000e+00, 0.0000e+00, 0.0000e+00, 0.0000e+00,\n",
      "           0.0000e+00, 0.0000e+00, 0.0000e+00, 0.0000e+00, 0.0000e+00],\n",
      "          [0.0000e+00, 0.0000e+00, 0.0000e+00, 0.0000e+00, 0.0000e+00,\n",
      "           0.0000e+00, 0.0000e+00, 0.0000e+00, 0.0000e+00, 0.0000e+00,\n",
      "           0.0000e+00, 0.0000e+00, 0.0000e+00, 0.0000e+00, 0.0000e+00,\n",
      "           0.0000e+00, 9.8039e-04, 1.9608e-03, 2.4510e-01, 7.3824e-01,\n",
      "           1.9608e-03, 0.0000e+00, 0.0000e+00, 0.0000e+00, 0.0000e+00],\n",
      "          [0.0000e+00, 0.0000e+00, 0.0000e+00, 0.0000e+00, 0.0000e+00,\n",
      "           0.0000e+00, 0.0000e+00, 0.0000e+00, 0.0000e+00, 0.0000e+00,\n",
      "           0.0000e+00, 0.0000e+00, 0.0000e+00, 0.0000e+00, 0.0000e+00,\n",
      "           0.0000e+00, 0.0000e+00, 0.0000e+00, 7.2941e-01, 9.9118e-01,\n",
      "           2.4412e-01, 0.0000e+00, 0.0000e+00, 0.0000e+00, 0.0000e+00],\n",
      "          [0.0000e+00, 0.0000e+00, 0.0000e+00, 0.0000e+00, 0.0000e+00,\n",
      "           0.0000e+00, 0.0000e+00, 0.0000e+00, 0.0000e+00, 0.0000e+00,\n",
      "           0.0000e+00, 0.0000e+00, 0.0000e+00, 0.0000e+00, 0.0000e+00,\n",
      "           0.0000e+00, 1.9608e-03, 9.8039e-04, 1.9608e-03, 2.5490e-01,\n",
      "           9.8039e-04, 0.0000e+00, 0.0000e+00, 0.0000e+00, 0.0000e+00],\n",
      "          [0.0000e+00, 0.0000e+00, 0.0000e+00, 0.0000e+00, 0.0000e+00,\n",
      "           0.0000e+00, 0.0000e+00, 0.0000e+00, 0.0000e+00, 0.0000e+00,\n",
      "           0.0000e+00, 0.0000e+00, 0.0000e+00, 0.0000e+00, 0.0000e+00,\n",
      "           0.0000e+00, 0.0000e+00, 0.0000e+00, 0.0000e+00, 0.0000e+00,\n",
      "           0.0000e+00, 0.0000e+00, 0.0000e+00, 0.0000e+00, 0.0000e+00],\n",
      "          [0.0000e+00, 0.0000e+00, 0.0000e+00, 0.0000e+00, 0.0000e+00,\n",
      "           0.0000e+00, 0.0000e+00, 0.0000e+00, 0.0000e+00, 0.0000e+00,\n",
      "           0.0000e+00, 0.0000e+00, 0.0000e+00, 0.0000e+00, 0.0000e+00,\n",
      "           0.0000e+00, 0.0000e+00, 0.0000e+00, 0.0000e+00, 0.0000e+00,\n",
      "           0.0000e+00, 0.0000e+00, 0.0000e+00, 0.0000e+00, 0.0000e+00],\n",
      "          [0.0000e+00, 0.0000e+00, 0.0000e+00, 0.0000e+00, 0.0000e+00,\n",
      "           0.0000e+00, 0.0000e+00, 0.0000e+00, 0.0000e+00, 0.0000e+00,\n",
      "           0.0000e+00, 0.0000e+00, 0.0000e+00, 0.0000e+00, 0.0000e+00,\n",
      "           0.0000e+00, 0.0000e+00, 0.0000e+00, 0.0000e+00, 0.0000e+00,\n",
      "           0.0000e+00, 0.0000e+00, 0.0000e+00, 0.0000e+00, 0.0000e+00],\n",
      "          [0.0000e+00, 0.0000e+00, 0.0000e+00, 0.0000e+00, 0.0000e+00,\n",
      "           0.0000e+00, 0.0000e+00, 0.0000e+00, 0.0000e+00, 0.0000e+00,\n",
      "           0.0000e+00, 0.0000e+00, 0.0000e+00, 0.0000e+00, 0.0000e+00,\n",
      "           0.0000e+00, 0.0000e+00, 0.0000e+00, 0.0000e+00, 0.0000e+00,\n",
      "           0.0000e+00, 0.0000e+00, 0.0000e+00, 0.0000e+00, 0.0000e+00],\n",
      "          [0.0000e+00, 0.0000e+00, 0.0000e+00, 0.0000e+00, 0.0000e+00,\n",
      "           0.0000e+00, 0.0000e+00, 0.0000e+00, 0.0000e+00, 0.0000e+00,\n",
      "           0.0000e+00, 0.0000e+00, 0.0000e+00, 0.0000e+00, 0.0000e+00,\n",
      "           0.0000e+00, 0.0000e+00, 0.0000e+00, 0.0000e+00, 0.0000e+00,\n",
      "           0.0000e+00, 0.0000e+00, 0.0000e+00, 0.0000e+00, 0.0000e+00],\n",
      "          [0.0000e+00, 0.0000e+00, 0.0000e+00, 0.0000e+00, 0.0000e+00,\n",
      "           0.0000e+00, 0.0000e+00, 0.0000e+00, 0.0000e+00, 0.0000e+00,\n",
      "           0.0000e+00, 0.0000e+00, 0.0000e+00, 0.0000e+00, 0.0000e+00,\n",
      "           0.0000e+00, 0.0000e+00, 0.0000e+00, 0.0000e+00, 0.0000e+00,\n",
      "           0.0000e+00, 0.0000e+00, 0.0000e+00, 0.0000e+00, 0.0000e+00],\n",
      "          [0.0000e+00, 0.0000e+00, 0.0000e+00, 0.0000e+00, 0.0000e+00,\n",
      "           0.0000e+00, 0.0000e+00, 0.0000e+00, 0.0000e+00, 0.0000e+00,\n",
      "           0.0000e+00, 0.0000e+00, 0.0000e+00, 0.0000e+00, 0.0000e+00,\n",
      "           0.0000e+00, 0.0000e+00, 0.0000e+00, 0.0000e+00, 0.0000e+00,\n",
      "           0.0000e+00, 0.0000e+00, 0.0000e+00, 0.0000e+00, 0.0000e+00],\n",
      "          [0.0000e+00, 0.0000e+00, 0.0000e+00, 0.0000e+00, 0.0000e+00,\n",
      "           0.0000e+00, 0.0000e+00, 0.0000e+00, 0.0000e+00, 0.0000e+00,\n",
      "           0.0000e+00, 0.0000e+00, 0.0000e+00, 0.0000e+00, 0.0000e+00,\n",
      "           0.0000e+00, 0.0000e+00, 0.0000e+00, 0.0000e+00, 0.0000e+00,\n",
      "           0.0000e+00, 0.0000e+00, 0.0000e+00, 0.0000e+00, 0.0000e+00],\n",
      "          [0.0000e+00, 0.0000e+00, 0.0000e+00, 0.0000e+00, 0.0000e+00,\n",
      "           0.0000e+00, 0.0000e+00, 0.0000e+00, 0.0000e+00, 0.0000e+00,\n",
      "           0.0000e+00, 0.0000e+00, 0.0000e+00, 0.0000e+00, 0.0000e+00,\n",
      "           0.0000e+00, 0.0000e+00, 0.0000e+00, 0.0000e+00, 0.0000e+00,\n",
      "           0.0000e+00, 0.0000e+00, 0.0000e+00, 0.0000e+00, 0.0000e+00],\n",
      "          [0.0000e+00, 0.0000e+00, 0.0000e+00, 0.0000e+00, 0.0000e+00,\n",
      "           0.0000e+00, 0.0000e+00, 0.0000e+00, 0.0000e+00, 0.0000e+00,\n",
      "           0.0000e+00, 0.0000e+00, 0.0000e+00, 0.0000e+00, 0.0000e+00,\n",
      "           0.0000e+00, 0.0000e+00, 0.0000e+00, 0.0000e+00, 0.0000e+00,\n",
      "           0.0000e+00, 0.0000e+00, 0.0000e+00, 0.0000e+00, 0.0000e+00],\n",
      "          [0.0000e+00, 0.0000e+00, 0.0000e+00, 0.0000e+00, 0.0000e+00,\n",
      "           0.0000e+00, 0.0000e+00, 0.0000e+00, 0.0000e+00, 0.0000e+00,\n",
      "           0.0000e+00, 0.0000e+00, 0.0000e+00, 0.0000e+00, 0.0000e+00,\n",
      "           0.0000e+00, 0.0000e+00, 0.0000e+00, 0.0000e+00, 0.0000e+00,\n",
      "           0.0000e+00, 0.0000e+00, 0.0000e+00, 0.0000e+00, 0.0000e+00],\n",
      "          [0.0000e+00, 0.0000e+00, 0.0000e+00, 0.0000e+00, 0.0000e+00,\n",
      "           0.0000e+00, 0.0000e+00, 0.0000e+00, 0.0000e+00, 0.0000e+00,\n",
      "           0.0000e+00, 0.0000e+00, 0.0000e+00, 0.0000e+00, 0.0000e+00,\n",
      "           0.0000e+00, 0.0000e+00, 0.0000e+00, 0.0000e+00, 0.0000e+00,\n",
      "           0.0000e+00, 0.0000e+00, 0.0000e+00, 0.0000e+00, 0.0000e+00],\n",
      "          [0.0000e+00, 0.0000e+00, 0.0000e+00, 0.0000e+00, 0.0000e+00,\n",
      "           0.0000e+00, 0.0000e+00, 0.0000e+00, 0.0000e+00, 0.0000e+00,\n",
      "           0.0000e+00, 0.0000e+00, 0.0000e+00, 0.0000e+00, 0.0000e+00,\n",
      "           0.0000e+00, 0.0000e+00, 0.0000e+00, 0.0000e+00, 0.0000e+00,\n",
      "           0.0000e+00, 0.0000e+00, 0.0000e+00, 0.0000e+00, 0.0000e+00],\n",
      "          [0.0000e+00, 0.0000e+00, 0.0000e+00, 0.0000e+00, 0.0000e+00,\n",
      "           0.0000e+00, 0.0000e+00, 0.0000e+00, 0.0000e+00, 0.0000e+00,\n",
      "           0.0000e+00, 0.0000e+00, 0.0000e+00, 0.0000e+00, 0.0000e+00,\n",
      "           0.0000e+00, 0.0000e+00, 0.0000e+00, 0.0000e+00, 0.0000e+00,\n",
      "           0.0000e+00, 0.0000e+00, 0.0000e+00, 0.0000e+00, 0.0000e+00]]]])\n",
      "Label for first image: 0.0\n"
     ]
    },
    {
     "data": {
      "image/png": "[encoded data removed]",
      "text/plain": [
       "<Figure size 640x480 with 1 Axes>"
      ]
     },
     "metadata": {},
     "output_type": "display_data"
    }
   ],
   "source": [
    "for i, (images, labels) in enumerate(train_loader):\n",
    "    # images 和 labels 是这个批次的数据和标签\n",
    "    # 注意：这里的 images 和 labels 的具体形状依赖于你的 Dataset 类是如何实现的\n",
    "    \n",
    "    print(f\"Batch {i+1}\")\n",
    "    print(f\"Images shape: {images.shape}\")  # 打印图像张量的形状\n",
    "    print(f\"Labels shape: {labels.shape}\")  # 打印标签张量的形状\n",
    "    \n",
    "    # 举例来说，你可以查看第一张图像和它的标签\n",
    "    # 注意：图像数据可能需要进行处理（如归一化逆转换）才能正确显示\n",
    "    first_frame = images[0]  # 获取批次中的第一张图像\n",
    "    first_label = labels[0]  # 获取第一张图像对应的标签\n",
    "    \n",
    "    # 打印第一张图像和它的标签\n",
    "    # 注意：这里只是示例代码，实际使用时可能需要根据你的数据进行适当调整\n",
    "    print(f\"First image in batch: {first_frame}\")\n",
    "    print(f\"Label for first image: {first_label}\")\n",
    "\n",
    "    show_image(first_frame)\n",
    "    break"
   ]
  },
  {
   "cell_type": "code",
   "execution_count": 13,
   "id": "ef2d3909-9757-4fce-8822-dddc1aa2e997",
   "metadata": {},
   "outputs": [
    {
     "name": "stderr",
     "output_type": "stream",
     "text": [
      "[1/20] Loss: 0.0033: 100%|███████████████| 7875/7875 [00:14<00:00, 542.73step/s]\n",
      "[2/20] Loss: 0.0030: 100%|███████████████| 7875/7875 [00:14<00:00, 539.91step/s]\n",
      "[3/20] Loss: 0.0029: 100%|███████████████| 7875/7875 [00:15<00:00, 522.02step/s]\n",
      "[4/20] Loss: 0.0027: 100%|███████████████| 7875/7875 [00:14<00:00, 540.14step/s]\n",
      "[5/20] Loss: 0.0024: 100%|███████████████| 7875/7875 [00:14<00:00, 542.25step/s]\n",
      "[6/20] Loss: 0.0021: 100%|███████████████| 7875/7875 [00:14<00:00, 549.28step/s]\n",
      "[7/20] Loss: 0.0020: 100%|███████████████| 7875/7875 [00:14<00:00, 550.88step/s]\n",
      "[8/20] Loss: 0.0018: 100%|███████████████| 7875/7875 [00:14<00:00, 553.42step/s]\n",
      "[9/20] Loss: 0.0018: 100%|███████████████| 7875/7875 [00:13<00:00, 562.74step/s]\n",
      "[10/20] Loss: 0.0019: 100%|██████████████| 7875/7875 [00:14<00:00, 555.55step/s]\n",
      "[11/20] Loss: 0.0016: 100%|██████████████| 7875/7875 [00:14<00:00, 558.83step/s]\n",
      "[12/20] Loss: 0.0017: 100%|██████████████| 7875/7875 [00:14<00:00, 551.25step/s]\n",
      "[13/20] Loss: 0.0017: 100%|██████████████| 7875/7875 [00:14<00:00, 561.55step/s]\n",
      "[14/20] Loss: 0.0017: 100%|██████████████| 7875/7875 [00:14<00:00, 555.53step/s]\n",
      "[15/20] Loss: 0.0017: 100%|██████████████| 7875/7875 [00:13<00:00, 569.35step/s]\n",
      "[16/20] Loss: 0.0017: 100%|██████████████| 7875/7875 [00:13<00:00, 566.79step/s]\n",
      "[17/20] Loss: 0.0017: 100%|██████████████| 7875/7875 [00:13<00:00, 565.22step/s]\n",
      "[18/20] Loss: 0.0017: 100%|██████████████| 7875/7875 [00:13<00:00, 565.28step/s]\n",
      "[19/20] Loss: 0.0017: 100%|██████████████| 7875/7875 [00:14<00:00, 560.46step/s]\n",
      "[20/20] Loss: 0.0015: 100%|██████████████| 7875/7875 [00:13<00:00, 562.68step/s]\n"
     ]
    }
   ],
   "source": [
    "from network import Model\n",
    "import torch.nn as nn\n",
    "import torch.optim as optim\n",
    "from tqdm import tqdm\n",
    "\n",
    "net = Model()\n",
    "criterion = nn.MSELoss()\n",
    "learning_rate = 0.0001\n",
    "optimizer = optim.Adam(net.parameters(), lr=learning_rate)\n",
    "        \n",
    "EPOCHS = 20\n",
    "for epoch in range(1, EPOCHS + 1):\n",
    "    processBar = tqdm(train_loader, unit='step')\n",
    "    net.train(True)\n",
    "    for step, (trainImgs, labels) in enumerate(processBar):\n",
    "        # 展平图像：从 [batch_size, 25, 25] 变为 [batch_size, 625]\n",
    "        flattened_trainImgs = trainImgs.view(trainImgs.size(0), -1)\n",
    "\n",
    "        optimizer.zero_grad()\n",
    "        Output = net.autoencoder_train(flattened_trainImgs)\n",
    "\n",
    "        loss = criterion(Output, flattened_trainImgs)  # 使用展平的图像计算损失\n",
    "\n",
    "        loss.backward()\n",
    "        optimizer.step()\n",
    "\n",
    "        processBar.set_description(f\"[{epoch}/{EPOCHS}] Loss: {loss.item():.4f}\")\n"
   ]
  },
  {
   "cell_type": "code",
   "execution_count": null,
   "id": "e3fcb7e1-847f-4aef-8dee-ee02d7e41015",
   "metadata": {},
   "outputs": [],
   "source": []
  },
  {
   "cell_type": "code",
   "execution_count": 17,
   "id": "5ef82b24-a2f7-40db-8ba9-abf02354252d",
   "metadata": {},
   "outputs": [
    {
     "data": {
      "text/plain": [
       "torch.Size([8, 625])"
      ]
     },
     "execution_count": 17,
     "metadata": {},
     "output_type": "execute_result"
    }
   ],
   "source": [
    "flattened_trainImgs.shape"
   ]
  },
  {
   "cell_type": "code",
   "execution_count": 40,
   "id": "57373779-d286-4c1c-bf43-a42828ca38d0",
   "metadata": {},
   "outputs": [
    {
     "data": {
      "image/png": "[encoded data removed]",
      "text/plain": [
       "<Figure size 6400x10000 with 2 Axes>"
      ]
     },
     "metadata": {},
     "output_type": "display_data"
    }
   ],
   "source": [
    "plt.figure(figsize=(16, 64))\n",
    "for i in range(8):\n",
    "    original_frame = flattened_trainImgs[i].reshape(25, 25)\n",
    "    Output_frame = Output[i].detach().reshape(25,25)\n",
    "    plt.subplot(8, 2, (i + 1) * 2 - 1)\n",
    "    plt.imshow(original_frame, cmap='gray')  # 使用灰度颜色映射\n",
    "    plt.title('Restored Image')\n",
    "    plt.axis('off')  # 不显示坐标轴\n",
    "    plt.subplot(8, 2, (i + 1) * 2)\n",
    "    plt.imshow(Output_frame, cmap='gray')  # 使用灰度颜色映射\n",
    "    plt.title('Restored Image')\n",
    "    plt.axis('off')  # 不显示坐标轴\n",
    "plt.subplots_adjust(wspace=0.2, hspace=0.4)  # wspace是子图之间的宽度间距，hspace是高度间距\n",
    "plt.show()"
   ]
  },
  {
   "cell_type": "code",
   "execution_count": 24,
   "id": "47317b10-71ed-465e-b9b0-94106820034d",
   "metadata": {},
   "outputs": [
    {
     "data": {
      "image/png": "[encoded data removed]",
      "text/plain": [
       "<Figure size 640x480 with 1 Axes>"
      ]
     },
     "metadata": {},
     "output_type": "display_data"
    }
   ],
   "source": [
    "Output_frame = Output[0].reshape(25,25)\n",
    "\n",
    "plt.imshow(original_frame, cmap='gray')  # 使用灰度颜色映射\n",
    "plt.title('Restored Image')\n",
    "plt.axis('off')  # 不显示坐标轴\n",
    "plt.show()"
   ]
  },
  {
   "cell_type": "code",
   "execution_count": null,
   "id": "f3fcf6de-6f24-4131-914e-06cd2fbb248b",
   "metadata": {},
   "outputs": [],
   "source": []
  }
 ],
 "metadata": {
  "kernelspec": {
   "display_name": "Python 3 (ipykernel)",
   "language": "python",
   "name": "python3"
  },
  "language_info": {
   "codemirror_mode": {
    "name": "ipython",
    "version": 3
   },
   "file_extension": ".py",
   "mimetype": "text/x-python",
   "name": "python",
   "nbconvert_exporter": "python",
   "pygments_lexer": "ipython3",
   "version": "3.11.0"
  }
 },
 "nbformat": 4,
 "nbformat_minor": 5
}
